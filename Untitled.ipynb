{
 "cells": [
  {
   "cell_type": "markdown",
   "metadata": {},
   "source": [
    "# European Soccer EDA\n"
   ]
  },
  {
   "cell_type": "markdown",
   "metadata": {},
   "source": [
    "### Data\n",
    "\n",
    "This dataset contains 25k+ matches, players & teams attributes for European Professional Football, including:\n",
    "\n",
    "* +25,000 matches<br/>\n",
    "* +10,000 players<br/>\n",
    "* 11 European Countries with their lead championship<br/>\n",
    "* Seasons 2008 to 2016<br/>\n",
    "* Players and Teams' attributes* sourced from EA Sports' FIFA video game series, including the weekly updates<br/>\n",
    "* Team line up with squad formation (X, Y coordinates)<br/>\n",
    "* Betting odds from up to 10 providers<br/>\n",
    "* Detailed match events (goal types, possession, corner, cross, fouls, cards etc...) for +10,000 matches<br/>\n",
    "\n",
    "Source: Kaggle\n",
    "\n",
    "https://www.kaggle.com/hugomathien/soccer"
   ]
  },
  {
   "cell_type": "markdown",
   "metadata": {},
   "source": [
    "![](images/teamheatmap.png)"
   ]
  },
  {
   "cell_type": "markdown",
   "metadata": {},
   "source": [
    "![](images/playerheatmap.png)"
   ]
  },
  {
   "cell_type": "markdown",
   "metadata": {},
   "source": [
    "![](images/wandh.png)"
   ]
  },
  {
   "cell_type": "markdown",
   "metadata": {},
   "source": [
    "![](images/w_h_overall_rating.png)"
   ]
  },
  {
   "cell_type": "markdown",
   "metadata": {},
   "source": [
    "!['weight vs height']('images/wvsh.png')"
   ]
  },
  {
   "cell_type": "markdown",
   "metadata": {},
   "source": [
    "!['team winning rate']('images/t_wr.png')"
   ]
  },
  {
   "cell_type": "code",
   "execution_count": null,
   "metadata": {},
   "outputs": [],
   "source": []
  }
 ],
 "metadata": {
  "kernelspec": {
   "display_name": "Python 3",
   "language": "python",
   "name": "python3"
  },
  "language_info": {
   "codemirror_mode": {
    "name": "ipython",
    "version": 3
   },
   "file_extension": ".py",
   "mimetype": "text/x-python",
   "name": "python",
   "nbconvert_exporter": "python",
   "pygments_lexer": "ipython3",
   "version": "3.7.3"
  }
 },
 "nbformat": 4,
 "nbformat_minor": 2
}
